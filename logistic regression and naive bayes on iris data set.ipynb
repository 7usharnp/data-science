{
 "cells": [
  {
   "cell_type": "code",
   "execution_count": 1,
   "metadata": {},
   "outputs": [],
   "source": [
    "import numpy as np\n",
    "from sklearn.datasets import load_iris\n",
    "from sklearn.linear_model import LogisticRegression\n",
    "from sklearn.metrics import accuracy_score\n",
    "from sklearn.preprocessing import StandardScaler, PolynomialFeatures\n",
    "from sklearn.model_selection import train_test_split, GridSearchCV"
   ]
  },
  {
   "cell_type": "code",
   "execution_count": 2,
   "metadata": {},
   "outputs": [],
   "source": [
    "#Load Iris dataset\n",
    "iris = load_iris()\n",
    "X_iris = iris.data\n",
    "y_iris = iris.target"
   ]
  },
  {
   "cell_type": "code",
   "execution_count": 3,
   "metadata": {},
   "outputs": [
    {
     "name": "stdout",
     "output_type": "stream",
     "text": [
      "(150, 4)\n",
      "(150,)\n"
     ]
    }
   ],
   "source": [
    "#Check the shape of data\n",
    "print (X_iris.shape)\n",
    "print (y_iris.shape)"
   ]
  },
  {
   "cell_type": "code",
   "execution_count": 4,
   "metadata": {},
   "outputs": [
    {
     "name": "stdout",
     "output_type": "stream",
     "text": [
      "Test  1: 50, 2: 50, 3: 50\n",
      "Train 1: 50, 2: 50, 3: 50\n"
     ]
    }
   ],
   "source": [
    "#Check if sets balanced\n",
    "print ('Test  1: {}, 2: {}, 3: {}'.format(np.sum(y_iris == 0), np.sum(y_iris == 1), np.sum(y_iris == 2) ) )\n",
    "print ('Train 1: {}, 2: {}, 3: {}'.format(np.sum(y_iris == 0), np.sum(y_iris == 1), np.sum(y_iris == 2) ) )"
   ]
  },
  {
   "cell_type": "code",
   "execution_count": 5,
   "metadata": {},
   "outputs": [],
   "source": [
    "#Create separate each feature array\n",
    "a = X_iris[:,0]\n",
    "b = X_iris[:,1]\n",
    "c = X_iris[:,2]\n",
    "d = X_iris[:,3]\n",
    "\n",
    "\n",
    "#Scale X data\n",
    "scaler = StandardScaler()\n",
    "scaler.fit_transform (X_iris,y_iris)\n",
    "X_scaled = scaler.transform (X_iris)\n",
    "\n",
    "\n",
    "#Make modified features sets with squares of each feature\n",
    "X_squares   =  np.vstack (([a**2], [b**2], [c **2], [d**2])).T\n",
    "\n",
    "#Make modified features set with multiplied pairs of each feature\n",
    "X_multi = np.vstack ((a*b, a*c, a*d, b*c, b*d, c*d)).T\n",
    "\n",
    "#Make polynomial transformation n = 10\n",
    "transform = PolynomialFeatures(10)\n",
    "transform.fit_transform(X_iris)\n",
    "X_poly = transform.transform(X_iris)"
   ]
  },
  {
   "cell_type": "code",
   "execution_count": 6,
   "metadata": {},
   "outputs": [],
   "source": [
    "#Make split for original data\n",
    "(X_train, X_test, y_train, y_test ) = train_test_split(X_iris, y_iris, stratify=y_iris, test_size= 0.3)\n",
    "\n"
   ]
  },
  {
   "cell_type": "code",
   "execution_count": 14,
   "metadata": {},
   "outputs": [],
   "source": [
    "#Create estimator class\n",
    "estimator = LogisticRegression()\n",
    "\n",
    "#Create param grid\n",
    "paramgrid = {'C': [0.01, 0.05, 0.1, 0.5, 1, 5, 10], 'penalty': ['l1','l2']}\n",
    "\n",
    "#Create SearchGridCV optimizer\n",
    "optimizer = GridSearchCV(estimator, paramgrid, cv=10)\n",
    "\n",
    "#Fit it for original data\n",
    "optimizer.fit(X_train, y_train)\n",
    "predict = optimizer.best_estimator_.predict(X_test)\n",
    "pre = accuracy_score(y_test,predict)\n",
    "\n",
    "\n"
   ]
  },
  {
   "cell_type": "code",
   "execution_count": 15,
   "metadata": {},
   "outputs": [
    {
     "name": "stdout",
     "output_type": "stream",
     "text": [
      "Accuracy score for original: 0.9166666666666666\n"
     ]
    }
   ],
   "source": [
    "print ('Accuracy score for original: {}'.format(  pre) )\n"
   ]
  },
  {
   "cell_type": "markdown",
   "metadata": {},
   "source": [
    "# Naive bayes"
   ]
  },
  {
   "cell_type": "code",
   "execution_count": 9,
   "metadata": {},
   "outputs": [],
   "source": [
    "\n",
    "from sklearn.model_selection import train_test_split \n",
    "X_train, X_test, y_train, y_test = train_test_split(X_iris, y_iris, test_size=0.4, random_state=1) "
   ]
  },
  {
   "cell_type": "code",
   "execution_count": 11,
   "metadata": {},
   "outputs": [
    {
     "data": {
      "text/plain": [
       "GaussianNB(priors=None)"
      ]
     },
     "execution_count": 11,
     "metadata": {},
     "output_type": "execute_result"
    }
   ],
   "source": [
    "from sklearn.naive_bayes import GaussianNB \n",
    "gnb = GaussianNB() \n",
    "gnb.fit(X_train, y_train) "
   ]
  },
  {
   "cell_type": "code",
   "execution_count": 12,
   "metadata": {},
   "outputs": [],
   "source": [
    "y_pred = gnb.predict(X_test)\n",
    "pre=accuracy_score(y_test,y_pred)"
   ]
  },
  {
   "cell_type": "code",
   "execution_count": 13,
   "metadata": {},
   "outputs": [
    {
     "name": "stdout",
     "output_type": "stream",
     "text": [
      "Accuracy score for original: 0.95\n"
     ]
    }
   ],
   "source": [
    "print ('Accuracy score for original: {}'.format(  pre) )"
   ]
  }
 ],
 "metadata": {
  "kernelspec": {
   "display_name": "Python 3",
   "language": "python",
   "name": "python3"
  },
  "language_info": {
   "codemirror_mode": {
    "name": "ipython",
    "version": 3
   },
   "file_extension": ".py",
   "mimetype": "text/x-python",
   "name": "python",
   "nbconvert_exporter": "python",
   "pygments_lexer": "ipython3",
   "version": "3.6.5"
  }
 },
 "nbformat": 4,
 "nbformat_minor": 2
}
