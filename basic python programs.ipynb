{
 "cells": [
  {
   "cell_type": "code",
   "execution_count": 4,
   "metadata": {},
   "outputs": [
    {
     "data": {
      "text/plain": [
       "21"
      ]
     },
     "execution_count": 4,
     "metadata": {},
     "output_type": "execute_result"
    }
   ],
   "source": [
    "#FIBONACCI SERIES\n",
    "def fibonacci(n):\n",
    "    a=0\n",
    "    b=1\n",
    "    if n<0:\n",
    "        print(\"invalid input\")\n",
    "    elif n==0:\n",
    "        return a\n",
    "    elif n==1:\n",
    "        return b\n",
    "    else :\n",
    "        for n in range(2,n):\n",
    "            c=a+b\n",
    "            a=b\n",
    "            b=c\n",
    "        return b\n",
    "fibonacci(9)"
   ]
  },
  {
   "cell_type": "code",
   "execution_count": null,
   "metadata": {},
   "outputs": [],
   "source": [
    "#$$$ PALIANDROM $$$#\n",
    "num=int(input(\"enter a input:\"))\n",
    "rev=0\n",
    "temp=num\n",
    "if temp!=0:\n",
    "    rev=(rev*10)+(temp%10)\n",
    "    temp=temp//10\n",
    "if  rev==num:\n",
    "    print(\"paliandrom \")\n",
    "else:\n",
    "    print(\"not paliandrom\")"
   ]
  },
  {
   "cell_type": "code",
   "execution_count": null,
   "metadata": {},
   "outputs": [],
   "source": [
    "#           %%%% ARMSTRONG NUMBER  %%%%\n",
    "lower = int(input(\"enter a number: \"))\n",
    "upper = int(input(\"enter a number: \"))\n",
    "\n",
    "\n",
    "for num in range(lower, upper + 1):\n",
    "    order = len(str(num))\n",
    "    sum = 0\n",
    "    temp = num\n",
    "    while temp > 0:\n",
    "       digit = temp % 10\n",
    "       sum = sum + digit ** order\n",
    "       temp = temp//10\n",
    "\n",
    "if num == sum:\n",
    "       print(num)\n",
    "    \n",
    "    "
   ]
  },
  {
   "cell_type": "code",
   "execution_count": 10,
   "metadata": {},
   "outputs": [
    {
     "name": "stdout",
     "output_type": "stream",
     "text": [
      "enter a number 450\n",
      "not prime\n"
     ]
    }
   ],
   "source": [
    "#               prime number or not\n",
    "number= int(input(\"enter a number \"))\n",
    "if num>1:\n",
    "    for num in range(2,number):\n",
    "        if number%num==0:\n",
    "            print(\"not prime\")\n",
    "            break\n",
    "        else:\n",
    "            print(\"prime\")"
   ]
  },
  {
   "cell_type": "code",
   "execution_count": 14,
   "metadata": {},
   "outputs": [
    {
     "name": "stdout",
     "output_type": "stream",
     "text": [
      "enter a year:2000\n",
      "2000 is leap year\n"
     ]
    }
   ],
   "source": [
    "#      leap year\n",
    "year=int(input(\"enter a year:\"))\n",
    "if year%4==0:\n",
    "    if year%100==0:\n",
    "        if year%400==0:\n",
    "            print(\"{0} is leap year\".format(year))\n",
    "        else:\n",
    "            print(\"{0} is not leap year\".format(year))\n",
    "    else:\n",
    "        print(\"{0} is leap year\".format(year))\n",
    "else:\n",
    "    print(\"{0} is not leap year\".format (year))"
   ]
  },
  {
   "cell_type": "code",
   "execution_count": 4,
   "metadata": {},
   "outputs": [
    {
     "name": "stdout",
     "output_type": "stream",
     "text": [
      "enter a number 145\n",
      "541\n"
     ]
    }
   ],
   "source": [
    "#   REVERSE GIVEN NUMBER\n",
    "number= int(input(\"enter a number \"))\n",
    "temp=number\n",
    "rev=0\n",
    "while temp!=0:\n",
    "    rev=(rev*10)+(temp%10)\n",
    "    temp=temp//10\n",
    "print(rev)"
   ]
  },
  {
   "cell_type": "code",
   "execution_count": 5,
   "metadata": {},
   "outputs": [
    {
     "name": "stdout",
     "output_type": "stream",
     "text": [
      "[2, 4, 10, 20, 5]\n"
     ]
    }
   ],
   "source": [
    "def remove(duplicate):\n",
    "    final_list=[]\n",
    "    for num in duplicate:\n",
    "        if num not in final_list:\n",
    "            final_list.append(num)\n",
    "    return final_list\n",
    "\n",
    "duplicate = [2, 4, 10, 20, 5, 2, 20, 4]\n",
    "print(remove(duplicate))"
   ]
  },
  {
   "cell_type": "code",
   "execution_count": 8,
   "metadata": {},
   "outputs": [
    {
     "name": "stdout",
     "output_type": "stream",
     "text": [
      "enter a rows:10\n",
      "* \n",
      "* * \n",
      "* * * \n",
      "* * * * \n",
      "* * * * * \n",
      "* * * * * * \n",
      "* * * * * * * \n",
      "* * * * * * * * \n",
      "* * * * * * * * * \n",
      "* * * * * * * * * * \n"
     ]
    }
   ],
   "source": [
    "#                   Pyramid pattern using stars\n",
    "num=int(input(\"enter a rows:\"))\n",
    "for i in range (1,num+1):\n",
    "    for j in range (1,i+1):\n",
    "        print(\"*\",end=\" \")\n",
    "    print() "
   ]
  },
  {
   "cell_type": "code",
   "execution_count": 9,
   "metadata": {},
   "outputs": [
    {
     "name": "stdout",
     "output_type": "stream",
     "text": [
      "enter a rows:5\n",
      "1\n",
      "22\n",
      "333\n",
      "4444\n",
      "55555\n"
     ]
    }
   ],
   "source": [
    "#pyramid pattern with number\n",
    "num=int(input(\"enter a rows:\"))\n",
    "for i in range (1,num+1):\n",
    "    for j in range(1,i+1):\n",
    "        print(i,end=\"\")\n",
    "    print()"
   ]
  },
  {
   "cell_type": "code",
   "execution_count": 17,
   "metadata": {},
   "outputs": [
    {
     "name": "stdout",
     "output_type": "stream",
     "text": [
      "enter a rows:5\n",
      "1\n",
      "12\n",
      "123\n",
      "1234\n",
      "12345\n"
     ]
    }
   ],
   "source": [
    "num=int(input(\"enter a rows:\"))\n",
    "for i in range (1,num+1):\n",
    "    for j in range(1,i+1):\n",
    "        print(j,end=\"\")\n",
    "    print()"
   ]
  },
  {
   "cell_type": "code",
   "execution_count": 16,
   "metadata": {},
   "outputs": [
    {
     "name": "stdout",
     "output_type": "stream",
     "text": [
      "               *\n",
      "              ***\n",
      "             *****\n",
      "            *******\n",
      "           *********\n"
     ]
    }
   ],
   "source": [
    "                                #pyramid#\n",
    "j=15\n",
    "\n",
    "for i in range (1,10,2):\n",
    "    print(\" \"*j+i*\"*\")\n",
    "    j=j-1\n",
    "    "
   ]
  },
  {
   "cell_type": "code",
   "execution_count": 20,
   "metadata": {},
   "outputs": [
    {
     "name": "stdout",
     "output_type": "stream",
     "text": [
      "enter a rows:4\n",
      "1\n",
      "12\n",
      "123\n",
      "1234\n"
     ]
    }
   ],
   "source": [
    "num=int(input(\"enter a rows:\"))\n",
    "for i in range (1,num+1):\n",
    "    for j in range(1,i+1):\n",
    "        print(j,end=\"\")\n",
    "    print()"
   ]
  },
  {
   "cell_type": "code",
   "execution_count": 21,
   "metadata": {},
   "outputs": [
    {
     "name": "stdout",
     "output_type": "stream",
     "text": [
      "Enter the range: \t 5\n",
      "    * \n",
      "   * * \n",
      "  * * * \n",
      " * * * * \n",
      "* * * * * \n"
     ]
    }
   ],
   "source": [
    "num = int(input(\"Enter the range:  \"))\n",
    "# i loop for range(height) of the triangle\n",
    "# first j loop for printing space ' '\n",
    "# second j loop for printing stars '*'\n",
    "for i in range(num):\n",
    "    for j in range((num - i) - 1):\n",
    "        print(end=\" \")\n",
    "    for j in range(i + 1):\n",
    "        print(\"*\", end=\" \")\n",
    "    print()"
   ]
  },
  {
   "cell_type": "code",
   "execution_count": 30,
   "metadata": {
    "scrolled": true
   },
   "outputs": [
    {
     "name": "stdout",
     "output_type": "stream",
     "text": [
      "Enter the range: 5\n",
      "    0 \n",
      "   1 1 \n",
      "  2 2 2 \n",
      " 3 3 3 3 \n",
      "4 4 4 4 4 \n"
     ]
    }
   ],
   "source": [
    "num = int(input(\"Enter the range: \"))\n",
    "for i in range(num):\n",
    "    for j in range((num-i)-1):\n",
    "        print(end=\" \")\n",
    "    for j in range(i+1):\n",
    "        print(i,end=\" \")\n",
    "    print()"
   ]
  },
  {
   "cell_type": "code",
   "execution_count": 32,
   "metadata": {},
   "outputs": [
    {
     "name": "stdout",
     "output_type": "stream",
     "text": [
      "Enter the range: 20\n",
      "                     * \n",
      "                    * * \n",
      "                   * * * \n",
      "                  * * * * \n",
      "                 * * * * * \n",
      "                * * * * * * \n",
      "               * * * * * * * \n",
      "              * * * * * * * * \n",
      "             * * * * * * * * * \n",
      "            * * * * * * * * * * \n",
      "           * * * * * * * * * * * \n",
      "          * * * * * * * * * * * * \n",
      "         * * * * * * * * * * * * * \n",
      "        * * * * * * * * * * * * * * \n",
      "       * * * * * * * * * * * * * * * \n",
      "      * * * * * * * * * * * * * * * * \n",
      "     * * * * * * * * * * * * * * * * * \n",
      "    * * * * * * * * * * * * * * * * * * \n",
      "   * * * * * * * * * * * * * * * * * * * \n",
      "  * * * * * * * * * * * * * * * * * * * * \n"
     ]
    }
   ],
   "source": [
    "num = int(input(\"Enter the range: \"))\n",
    "for i in range (num):\n",
    "    for j in range ((num-i)+1):\n",
    "        print(end=\" \")\n",
    "    for j in range(i+1):\n",
    "        print(\"*\",end=\" \")\n",
    "    print()"
   ]
  },
  {
   "cell_type": "code",
   "execution_count": 6,
   "metadata": {},
   "outputs": [
    {
     "name": "stdout",
     "output_type": "stream",
     "text": [
      "166\n"
     ]
    }
   ],
   "source": [
    "#largest of 3 numbers\n",
    "num1=15\n",
    "num2=11\n",
    "num3=166\n",
    "if( num1>num2 and num1>num3):\n",
    "    largest=num1\n",
    "elif num2>num3:\n",
    "    largest=num2\n",
    "else:\n",
    "    largest=num3\n",
    "print(largest)"
   ]
  },
  {
   "cell_type": "code",
   "execution_count": 3,
   "metadata": {},
   "outputs": [
    {
     "name": "stdout",
     "output_type": "stream",
     "text": [
      "4\n",
      "5\n",
      "4\n"
     ]
    }
   ],
   "source": [
    "#for given two numbers second number indi\n",
    "def solve(x1,x2):\n",
    "    num=x1**x2\n",
    "    rev=0\n",
    "    rev=rev+num%10\n",
    "    print(rev)\n",
    "x1=int(input())\n",
    "x2=int(input())\n",
    "solve(x1,x2)"
   ]
  },
  {
   "cell_type": "code",
   "execution_count": null,
   "metadata": {},
   "outputs": [],
   "source": []
  }
 ],
 "metadata": {
  "kernelspec": {
   "display_name": "Python 3",
   "language": "python",
   "name": "python3"
  }
 },
 "nbformat": 4,
 "nbformat_minor": 2
}
